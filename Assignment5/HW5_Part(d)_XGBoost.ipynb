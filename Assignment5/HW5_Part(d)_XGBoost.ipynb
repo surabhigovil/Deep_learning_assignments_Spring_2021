{
  "nbformat": 4,
  "nbformat_minor": 0,
  "metadata": {
    "colab": {
      "name": "HW5_Part(d)_XGBoost.ipynb",
      "provenance": []
    },
    "kernelspec": {
      "name": "python3",
      "display_name": "Python 3"
    },
    "language_info": {
      "name": "python"
    }
  },
  "cells": [
    {
      "cell_type": "code",
      "metadata": {
        "id": "y7th4tGbJ4PA"
      },
      "source": [
        "#importing all the required libraries \n",
        "\n",
        "# load some default Python modules\n",
        "import numpy as np\n",
        "import pandas as pd\n",
        "\n",
        "import matplotlib.pyplot as plt\n",
        "import seaborn as sns\n",
        "% matplotlib inline\n",
        "\n",
        "plt.style.use('seaborn-whitegrid')\n",
        "import io\n",
        "\n",
        "import warnings\n",
        "warnings.filterwarnings('ignore')\n",
        "\n",
        "#sklearn\n",
        "from sklearn.model_selection import train_test_split\n",
        "from sklearn.preprocessing import LabelEncoder\n",
        "from sklearn.metrics import mean_squared_error\n",
        "from sklearn import preprocessing\n"
      ],
      "execution_count": 27,
      "outputs": []
    },
    {
      "cell_type": "markdown",
      "metadata": {
        "id": "PC0cxY7qLze4"
      },
      "source": [
        "# Downloading Data:"
      ]
    },
    {
      "cell_type": "code",
      "metadata": {
        "colab": {
          "base_uri": "https://localhost:8080/",
          "height": 204
        },
        "id": "4m0v5nbtKuwR",
        "outputId": "74df19f9-4994-47aa-eb4e-bbf424d56bf1"
      },
      "source": [
        "import requests\n",
        "\n",
        "url = \"https://raw.githubusercontent.com/surabhigovil/Deep_learning_assignments_Spring_2021/master/Assignment5/train_subset.csv\" \n",
        "download = requests.get(url).content\n",
        "\n",
        "subset_train = pd.read_csv(io.StringIO(download.decode('utf-8')))\n",
        "\n",
        "subset_train.head()"
      ],
      "execution_count": 5,
      "outputs": [
        {
          "output_type": "execute_result",
          "data": {
            "text/html": [
              "<div>\n",
              "<style scoped>\n",
              "    .dataframe tbody tr th:only-of-type {\n",
              "        vertical-align: middle;\n",
              "    }\n",
              "\n",
              "    .dataframe tbody tr th {\n",
              "        vertical-align: top;\n",
              "    }\n",
              "\n",
              "    .dataframe thead th {\n",
              "        text-align: right;\n",
              "    }\n",
              "</style>\n",
              "<table border=\"1\" class=\"dataframe\">\n",
              "  <thead>\n",
              "    <tr style=\"text-align: right;\">\n",
              "      <th></th>\n",
              "      <th>Unnamed: 0</th>\n",
              "      <th>key</th>\n",
              "      <th>fare_amount</th>\n",
              "      <th>pickup_datetime</th>\n",
              "      <th>pickup_longitude</th>\n",
              "      <th>pickup_latitude</th>\n",
              "      <th>dropoff_longitude</th>\n",
              "      <th>dropoff_latitude</th>\n",
              "      <th>passenger_count</th>\n",
              "    </tr>\n",
              "  </thead>\n",
              "  <tbody>\n",
              "    <tr>\n",
              "      <th>0</th>\n",
              "      <td>0</td>\n",
              "      <td>2009-06-15 17:26:21.0000001</td>\n",
              "      <td>4.5</td>\n",
              "      <td>2009-06-15 17:26:21 UTC</td>\n",
              "      <td>-73.844311</td>\n",
              "      <td>40.721319</td>\n",
              "      <td>-73.841610</td>\n",
              "      <td>40.712278</td>\n",
              "      <td>1</td>\n",
              "    </tr>\n",
              "    <tr>\n",
              "      <th>1</th>\n",
              "      <td>1</td>\n",
              "      <td>2010-01-05 16:52:16.0000002</td>\n",
              "      <td>16.9</td>\n",
              "      <td>2010-01-05 16:52:16 UTC</td>\n",
              "      <td>-74.016048</td>\n",
              "      <td>40.711303</td>\n",
              "      <td>-73.979268</td>\n",
              "      <td>40.782004</td>\n",
              "      <td>1</td>\n",
              "    </tr>\n",
              "    <tr>\n",
              "      <th>2</th>\n",
              "      <td>2</td>\n",
              "      <td>2011-08-18 00:35:00.00000049</td>\n",
              "      <td>5.7</td>\n",
              "      <td>2011-08-18 00:35:00 UTC</td>\n",
              "      <td>-73.982738</td>\n",
              "      <td>40.761270</td>\n",
              "      <td>-73.991242</td>\n",
              "      <td>40.750562</td>\n",
              "      <td>2</td>\n",
              "    </tr>\n",
              "    <tr>\n",
              "      <th>3</th>\n",
              "      <td>3</td>\n",
              "      <td>2012-04-21 04:30:42.0000001</td>\n",
              "      <td>7.7</td>\n",
              "      <td>2012-04-21 04:30:42 UTC</td>\n",
              "      <td>-73.987130</td>\n",
              "      <td>40.733143</td>\n",
              "      <td>-73.991567</td>\n",
              "      <td>40.758092</td>\n",
              "      <td>1</td>\n",
              "    </tr>\n",
              "    <tr>\n",
              "      <th>4</th>\n",
              "      <td>4</td>\n",
              "      <td>2010-03-09 07:51:00.000000135</td>\n",
              "      <td>5.3</td>\n",
              "      <td>2010-03-09 07:51:00 UTC</td>\n",
              "      <td>-73.968095</td>\n",
              "      <td>40.768008</td>\n",
              "      <td>-73.956655</td>\n",
              "      <td>40.783762</td>\n",
              "      <td>1</td>\n",
              "    </tr>\n",
              "  </tbody>\n",
              "</table>\n",
              "</div>"
            ],
            "text/plain": [
              "   Unnamed: 0                            key  ...  dropoff_latitude passenger_count\n",
              "0           0    2009-06-15 17:26:21.0000001  ...         40.712278               1\n",
              "1           1    2010-01-05 16:52:16.0000002  ...         40.782004               1\n",
              "2           2   2011-08-18 00:35:00.00000049  ...         40.750562               2\n",
              "3           3    2012-04-21 04:30:42.0000001  ...         40.758092               1\n",
              "4           4  2010-03-09 07:51:00.000000135  ...         40.783762               1\n",
              "\n",
              "[5 rows x 9 columns]"
            ]
          },
          "metadata": {
            "tags": []
          },
          "execution_count": 5
        }
      ]
    },
    {
      "cell_type": "code",
      "metadata": {
        "colab": {
          "base_uri": "https://localhost:8080/",
          "height": 204
        },
        "id": "uW8w3-CxGTBf",
        "outputId": "b0af1baa-ef71-496d-a60d-7d3d78bc2a51"
      },
      "source": [
        "url = \"https://raw.githubusercontent.com/surabhigovil/Deep_learning_assignments_Spring_2021/master/Assignment5/ny_taxi_test.csv\" \n",
        "download_test = requests.get(url).content\n",
        "\n",
        "test = pd.read_csv(io.StringIO(download_test.decode('utf-8')))\n",
        "\n",
        "test.head()"
      ],
      "execution_count": 6,
      "outputs": [
        {
          "output_type": "execute_result",
          "data": {
            "text/html": [
              "<div>\n",
              "<style scoped>\n",
              "    .dataframe tbody tr th:only-of-type {\n",
              "        vertical-align: middle;\n",
              "    }\n",
              "\n",
              "    .dataframe tbody tr th {\n",
              "        vertical-align: top;\n",
              "    }\n",
              "\n",
              "    .dataframe thead th {\n",
              "        text-align: right;\n",
              "    }\n",
              "</style>\n",
              "<table border=\"1\" class=\"dataframe\">\n",
              "  <thead>\n",
              "    <tr style=\"text-align: right;\">\n",
              "      <th></th>\n",
              "      <th>key</th>\n",
              "      <th>pickup_datetime</th>\n",
              "      <th>pickup_longitude</th>\n",
              "      <th>pickup_latitude</th>\n",
              "      <th>dropoff_longitude</th>\n",
              "      <th>dropoff_latitude</th>\n",
              "      <th>passenger_count</th>\n",
              "    </tr>\n",
              "  </thead>\n",
              "  <tbody>\n",
              "    <tr>\n",
              "      <th>0</th>\n",
              "      <td>2015-01-27 13:08:24.0000002</td>\n",
              "      <td>2015-01-27 13:08:24 UTC</td>\n",
              "      <td>-73.973320</td>\n",
              "      <td>40.763805</td>\n",
              "      <td>-73.981430</td>\n",
              "      <td>40.743835</td>\n",
              "      <td>1</td>\n",
              "    </tr>\n",
              "    <tr>\n",
              "      <th>1</th>\n",
              "      <td>2015-01-27 13:08:24.0000003</td>\n",
              "      <td>2015-01-27 13:08:24 UTC</td>\n",
              "      <td>-73.986862</td>\n",
              "      <td>40.719383</td>\n",
              "      <td>-73.998886</td>\n",
              "      <td>40.739201</td>\n",
              "      <td>1</td>\n",
              "    </tr>\n",
              "    <tr>\n",
              "      <th>2</th>\n",
              "      <td>2011-10-08 11:53:44.0000002</td>\n",
              "      <td>2011-10-08 11:53:44 UTC</td>\n",
              "      <td>-73.982524</td>\n",
              "      <td>40.751260</td>\n",
              "      <td>-73.979654</td>\n",
              "      <td>40.746139</td>\n",
              "      <td>1</td>\n",
              "    </tr>\n",
              "    <tr>\n",
              "      <th>3</th>\n",
              "      <td>2012-12-01 21:12:12.0000002</td>\n",
              "      <td>2012-12-01 21:12:12 UTC</td>\n",
              "      <td>-73.981160</td>\n",
              "      <td>40.767807</td>\n",
              "      <td>-73.990448</td>\n",
              "      <td>40.751635</td>\n",
              "      <td>1</td>\n",
              "    </tr>\n",
              "    <tr>\n",
              "      <th>4</th>\n",
              "      <td>2012-12-01 21:12:12.0000003</td>\n",
              "      <td>2012-12-01 21:12:12 UTC</td>\n",
              "      <td>-73.966046</td>\n",
              "      <td>40.789775</td>\n",
              "      <td>-73.988565</td>\n",
              "      <td>40.744427</td>\n",
              "      <td>1</td>\n",
              "    </tr>\n",
              "  </tbody>\n",
              "</table>\n",
              "</div>"
            ],
            "text/plain": [
              "                           key  ... passenger_count\n",
              "0  2015-01-27 13:08:24.0000002  ...               1\n",
              "1  2015-01-27 13:08:24.0000003  ...               1\n",
              "2  2011-10-08 11:53:44.0000002  ...               1\n",
              "3  2012-12-01 21:12:12.0000002  ...               1\n",
              "4  2012-12-01 21:12:12.0000003  ...               1\n",
              "\n",
              "[5 rows x 7 columns]"
            ]
          },
          "metadata": {
            "tags": []
          },
          "execution_count": 6
        }
      ]
    },
    {
      "cell_type": "code",
      "metadata": {
        "colab": {
          "base_uri": "https://localhost:8080/"
        },
        "id": "Zrltnyw9L-mo",
        "outputId": "dcf64396-e281-49e0-c456-c55f0bc13bda"
      },
      "source": [
        "subset_train.nunique()"
      ],
      "execution_count": 7,
      "outputs": [
        {
          "output_type": "execute_result",
          "data": {
            "text/plain": [
              "Unnamed: 0           50000\n",
              "key                  50000\n",
              "fare_amount            703\n",
              "pickup_datetime      49555\n",
              "pickup_longitude     33728\n",
              "pickup_latitude      36609\n",
              "dropoff_longitude    34893\n",
              "dropoff_latitude     37428\n",
              "passenger_count          7\n",
              "dtype: int64"
            ]
          },
          "metadata": {
            "tags": []
          },
          "execution_count": 7
        }
      ]
    },
    {
      "cell_type": "code",
      "metadata": {
        "colab": {
          "base_uri": "https://localhost:8080/"
        },
        "id": "1W5adH14MURw",
        "outputId": "4d20a126-8dac-439c-9751-72f4744f65bf"
      },
      "source": [
        "# delete the fares that are less than 0\n",
        "subset_train = subset_train.loc[subset_train.fare_amount > 0]\n",
        "subset_train.fare_amount.min()"
      ],
      "execution_count": 8,
      "outputs": [
        {
          "output_type": "execute_result",
          "data": {
            "text/plain": [
              "0.01"
            ]
          },
          "metadata": {
            "tags": []
          },
          "execution_count": 8
        }
      ]
    },
    {
      "cell_type": "code",
      "metadata": {
        "colab": {
          "base_uri": "https://localhost:8080/",
          "height": 297
        },
        "id": "L6Tu-LpZMf2l",
        "outputId": "d05174c4-a5db-4b5c-8e2b-682515ddf9ee"
      },
      "source": [
        "#distribution of data \n",
        "subset_train.describe()"
      ],
      "execution_count": 9,
      "outputs": [
        {
          "output_type": "execute_result",
          "data": {
            "text/html": [
              "<div>\n",
              "<style scoped>\n",
              "    .dataframe tbody tr th:only-of-type {\n",
              "        vertical-align: middle;\n",
              "    }\n",
              "\n",
              "    .dataframe tbody tr th {\n",
              "        vertical-align: top;\n",
              "    }\n",
              "\n",
              "    .dataframe thead th {\n",
              "        text-align: right;\n",
              "    }\n",
              "</style>\n",
              "<table border=\"1\" class=\"dataframe\">\n",
              "  <thead>\n",
              "    <tr style=\"text-align: right;\">\n",
              "      <th></th>\n",
              "      <th>Unnamed: 0</th>\n",
              "      <th>fare_amount</th>\n",
              "      <th>pickup_longitude</th>\n",
              "      <th>pickup_latitude</th>\n",
              "      <th>dropoff_longitude</th>\n",
              "      <th>dropoff_latitude</th>\n",
              "      <th>passenger_count</th>\n",
              "    </tr>\n",
              "  </thead>\n",
              "  <tbody>\n",
              "    <tr>\n",
              "      <th>count</th>\n",
              "      <td>49991.000000</td>\n",
              "      <td>49991.000000</td>\n",
              "      <td>49991.000000</td>\n",
              "      <td>49991.000000</td>\n",
              "      <td>49991.000000</td>\n",
              "      <td>49991.000000</td>\n",
              "      <td>49991.000000</td>\n",
              "    </tr>\n",
              "    <tr>\n",
              "      <th>mean</th>\n",
              "      <td>24999.786962</td>\n",
              "      <td>11.366585</td>\n",
              "      <td>-72.509497</td>\n",
              "      <td>39.933614</td>\n",
              "      <td>-72.505832</td>\n",
              "      <td>39.926919</td>\n",
              "      <td>1.667900</td>\n",
              "    </tr>\n",
              "    <tr>\n",
              "      <th>std</th>\n",
              "      <td>14433.564520</td>\n",
              "      <td>9.684734</td>\n",
              "      <td>10.394778</td>\n",
              "      <td>6.225408</td>\n",
              "      <td>10.403437</td>\n",
              "      <td>6.012618</td>\n",
              "      <td>1.289241</td>\n",
              "    </tr>\n",
              "    <tr>\n",
              "      <th>min</th>\n",
              "      <td>0.000000</td>\n",
              "      <td>0.010000</td>\n",
              "      <td>-75.423848</td>\n",
              "      <td>-74.006893</td>\n",
              "      <td>-84.654241</td>\n",
              "      <td>-74.006377</td>\n",
              "      <td>0.000000</td>\n",
              "    </tr>\n",
              "    <tr>\n",
              "      <th>25%</th>\n",
              "      <td>12500.500000</td>\n",
              "      <td>6.000000</td>\n",
              "      <td>-73.992062</td>\n",
              "      <td>40.734881</td>\n",
              "      <td>-73.991152</td>\n",
              "      <td>40.734375</td>\n",
              "      <td>1.000000</td>\n",
              "    </tr>\n",
              "    <tr>\n",
              "      <th>50%</th>\n",
              "      <td>24999.000000</td>\n",
              "      <td>8.500000</td>\n",
              "      <td>-73.981840</td>\n",
              "      <td>40.752679</td>\n",
              "      <td>-73.980082</td>\n",
              "      <td>40.753372</td>\n",
              "      <td>1.000000</td>\n",
              "    </tr>\n",
              "    <tr>\n",
              "      <th>75%</th>\n",
              "      <td>37499.500000</td>\n",
              "      <td>12.500000</td>\n",
              "      <td>-73.967154</td>\n",
              "      <td>40.767359</td>\n",
              "      <td>-73.963586</td>\n",
              "      <td>40.768166</td>\n",
              "      <td>2.000000</td>\n",
              "    </tr>\n",
              "    <tr>\n",
              "      <th>max</th>\n",
              "      <td>49999.000000</td>\n",
              "      <td>200.000000</td>\n",
              "      <td>40.783472</td>\n",
              "      <td>401.083332</td>\n",
              "      <td>40.851027</td>\n",
              "      <td>43.415190</td>\n",
              "      <td>6.000000</td>\n",
              "    </tr>\n",
              "  </tbody>\n",
              "</table>\n",
              "</div>"
            ],
            "text/plain": [
              "         Unnamed: 0   fare_amount  ...  dropoff_latitude  passenger_count\n",
              "count  49991.000000  49991.000000  ...      49991.000000     49991.000000\n",
              "mean   24999.786962     11.366585  ...         39.926919         1.667900\n",
              "std    14433.564520      9.684734  ...          6.012618         1.289241\n",
              "min        0.000000      0.010000  ...        -74.006377         0.000000\n",
              "25%    12500.500000      6.000000  ...         40.734375         1.000000\n",
              "50%    24999.000000      8.500000  ...         40.753372         1.000000\n",
              "75%    37499.500000     12.500000  ...         40.768166         2.000000\n",
              "max    49999.000000    200.000000  ...         43.415190         6.000000\n",
              "\n",
              "[8 rows x 7 columns]"
            ]
          },
          "metadata": {
            "tags": []
          },
          "execution_count": 9
        }
      ]
    },
    {
      "cell_type": "code",
      "metadata": {
        "id": "Y8bASin3Mjx6"
      },
      "source": [
        "train_X = subset_train.drop(columns=['fare_amount'])\n",
        "Y = subset_train.fare_amount\n",
        "\n",
        "#Y = df_train['fare_amount']\n",
        "test_X = test"
      ],
      "execution_count": 10,
      "outputs": []
    },
    {
      "cell_type": "code",
      "metadata": {
        "id": "Akwoo5chHIKW"
      },
      "source": [
        "df = train_X.append(test_X,sort=False) #stacking"
      ],
      "execution_count": 15,
      "outputs": []
    },
    {
      "cell_type": "markdown",
      "metadata": {
        "id": "_ahD70l0GoPa"
      },
      "source": [
        "# Helper Function to caluclate Haversine Distance:"
      ]
    },
    {
      "cell_type": "code",
      "metadata": {
        "id": "T8A24v-4Gspg"
      },
      "source": [
        "def haversine_distance(df, lat1, long1, lat2, long2):\n",
        "    \"\"\"\n",
        "    Calculates the haversine distance between 2 sets of GPS coordinates in df\n",
        "    \"\"\"\n",
        "    r = 3958.75  # average radius of Earth \n",
        "       \n",
        "    phi1 = np.radians(df[lat1])\n",
        "    phi2 = np.radians(df[lat2])\n",
        "    \n",
        "    delta_phi = np.radians(df[lat2]-df[lat1])\n",
        "    delta_lambda = np.radians(df[long2]-df[long1])\n",
        "     \n",
        "    a = np.sin(delta_phi/2)**2 + np.cos(phi1) * np.cos(phi2) * np.sin(delta_lambda/2)**2\n",
        "    c = 2 * np.arctan2(np.sqrt(a), np.sqrt(1-a))\n",
        "    d = (r * c) # in kilometers\n",
        "\n",
        "    return d"
      ],
      "execution_count": 11,
      "outputs": []
    },
    {
      "cell_type": "markdown",
      "metadata": {
        "id": "5CLH64ESHO0m"
      },
      "source": [
        "# Preprocessing:"
      ]
    },
    {
      "cell_type": "code",
      "metadata": {
        "colab": {
          "base_uri": "https://localhost:8080/",
          "height": 204
        },
        "id": "11Yy1R69G5Xz",
        "outputId": "a3171cb0-9e6a-450e-ba3c-01b83a1d04f5"
      },
      "source": [
        "df['dist_miles'] = haversine_distance(df,'pickup_latitude', 'pickup_longitude', 'dropoff_latitude', 'dropoff_longitude')\n",
        "df.head()"
      ],
      "execution_count": 16,
      "outputs": [
        {
          "output_type": "execute_result",
          "data": {
            "text/html": [
              "<div>\n",
              "<style scoped>\n",
              "    .dataframe tbody tr th:only-of-type {\n",
              "        vertical-align: middle;\n",
              "    }\n",
              "\n",
              "    .dataframe tbody tr th {\n",
              "        vertical-align: top;\n",
              "    }\n",
              "\n",
              "    .dataframe thead th {\n",
              "        text-align: right;\n",
              "    }\n",
              "</style>\n",
              "<table border=\"1\" class=\"dataframe\">\n",
              "  <thead>\n",
              "    <tr style=\"text-align: right;\">\n",
              "      <th></th>\n",
              "      <th>Unnamed: 0</th>\n",
              "      <th>key</th>\n",
              "      <th>pickup_datetime</th>\n",
              "      <th>pickup_longitude</th>\n",
              "      <th>pickup_latitude</th>\n",
              "      <th>dropoff_longitude</th>\n",
              "      <th>dropoff_latitude</th>\n",
              "      <th>passenger_count</th>\n",
              "      <th>dist_miles</th>\n",
              "    </tr>\n",
              "  </thead>\n",
              "  <tbody>\n",
              "    <tr>\n",
              "      <th>0</th>\n",
              "      <td>0.0</td>\n",
              "      <td>2009-06-15 17:26:21.0000001</td>\n",
              "      <td>2009-06-15 17:26:21 UTC</td>\n",
              "      <td>-73.844311</td>\n",
              "      <td>40.721319</td>\n",
              "      <td>-73.841610</td>\n",
              "      <td>40.712278</td>\n",
              "      <td>1</td>\n",
              "      <td>0.640486</td>\n",
              "    </tr>\n",
              "    <tr>\n",
              "      <th>1</th>\n",
              "      <td>1.0</td>\n",
              "      <td>2010-01-05 16:52:16.0000002</td>\n",
              "      <td>2010-01-05 16:52:16 UTC</td>\n",
              "      <td>-74.016048</td>\n",
              "      <td>40.711303</td>\n",
              "      <td>-73.979268</td>\n",
              "      <td>40.782004</td>\n",
              "      <td>1</td>\n",
              "      <td>5.250662</td>\n",
              "    </tr>\n",
              "    <tr>\n",
              "      <th>2</th>\n",
              "      <td>2.0</td>\n",
              "      <td>2011-08-18 00:35:00.00000049</td>\n",
              "      <td>2011-08-18 00:35:00 UTC</td>\n",
              "      <td>-73.982738</td>\n",
              "      <td>40.761270</td>\n",
              "      <td>-73.991242</td>\n",
              "      <td>40.750562</td>\n",
              "      <td>2</td>\n",
              "      <td>0.863410</td>\n",
              "    </tr>\n",
              "    <tr>\n",
              "      <th>3</th>\n",
              "      <td>3.0</td>\n",
              "      <td>2012-04-21 04:30:42.0000001</td>\n",
              "      <td>2012-04-21 04:30:42 UTC</td>\n",
              "      <td>-73.987130</td>\n",
              "      <td>40.733143</td>\n",
              "      <td>-73.991567</td>\n",
              "      <td>40.758092</td>\n",
              "      <td>1</td>\n",
              "      <td>1.739383</td>\n",
              "    </tr>\n",
              "    <tr>\n",
              "      <th>4</th>\n",
              "      <td>4.0</td>\n",
              "      <td>2010-03-09 07:51:00.000000135</td>\n",
              "      <td>2010-03-09 07:51:00 UTC</td>\n",
              "      <td>-73.968095</td>\n",
              "      <td>40.768008</td>\n",
              "      <td>-73.956655</td>\n",
              "      <td>40.783762</td>\n",
              "      <td>1</td>\n",
              "      <td>1.242217</td>\n",
              "    </tr>\n",
              "  </tbody>\n",
              "</table>\n",
              "</div>"
            ],
            "text/plain": [
              "   Unnamed: 0                            key  ... passenger_count  dist_miles\n",
              "0         0.0    2009-06-15 17:26:21.0000001  ...               1    0.640486\n",
              "1         1.0    2010-01-05 16:52:16.0000002  ...               1    5.250662\n",
              "2         2.0   2011-08-18 00:35:00.00000049  ...               2    0.863410\n",
              "3         3.0    2012-04-21 04:30:42.0000001  ...               1    1.739383\n",
              "4         4.0  2010-03-09 07:51:00.000000135  ...               1    1.242217\n",
              "\n",
              "[5 rows x 9 columns]"
            ]
          },
          "metadata": {
            "tags": []
          },
          "execution_count": 16
        }
      ]
    },
    {
      "cell_type": "code",
      "metadata": {
        "colab": {
          "base_uri": "https://localhost:8080/",
          "height": 204
        },
        "id": "lGQ7kUuRHNL0",
        "outputId": "43cabc23-8df0-488e-dbe4-5147212dac6c"
      },
      "source": [
        "subset_train['EDTdate'] = pd.to_datetime(subset_train['pickup_datetime'].str[:19]) - pd.Timedelta(hours=4)\n",
        "subset_train['Hour'] = subset_train['EDTdate'].dt.hour\n",
        "subset_train['AMorPM'] = np.where(subset_train['Hour']<12,'am','pm')\n",
        "subset_train['Weekday'] = subset_train['EDTdate'].dt.strftime(\"%a\")\n",
        "subset_train.head()"
      ],
      "execution_count": 21,
      "outputs": [
        {
          "output_type": "execute_result",
          "data": {
            "text/html": [
              "<div>\n",
              "<style scoped>\n",
              "    .dataframe tbody tr th:only-of-type {\n",
              "        vertical-align: middle;\n",
              "    }\n",
              "\n",
              "    .dataframe tbody tr th {\n",
              "        vertical-align: top;\n",
              "    }\n",
              "\n",
              "    .dataframe thead th {\n",
              "        text-align: right;\n",
              "    }\n",
              "</style>\n",
              "<table border=\"1\" class=\"dataframe\">\n",
              "  <thead>\n",
              "    <tr style=\"text-align: right;\">\n",
              "      <th></th>\n",
              "      <th>Unnamed: 0</th>\n",
              "      <th>key</th>\n",
              "      <th>fare_amount</th>\n",
              "      <th>pickup_datetime</th>\n",
              "      <th>pickup_longitude</th>\n",
              "      <th>pickup_latitude</th>\n",
              "      <th>dropoff_longitude</th>\n",
              "      <th>dropoff_latitude</th>\n",
              "      <th>passenger_count</th>\n",
              "      <th>EDTdate</th>\n",
              "      <th>Hour</th>\n",
              "      <th>AMorPM</th>\n",
              "      <th>Weekday</th>\n",
              "    </tr>\n",
              "  </thead>\n",
              "  <tbody>\n",
              "    <tr>\n",
              "      <th>0</th>\n",
              "      <td>0</td>\n",
              "      <td>2009-06-15 17:26:21.0000001</td>\n",
              "      <td>4.5</td>\n",
              "      <td>2009-06-15 17:26:21 UTC</td>\n",
              "      <td>-73.844311</td>\n",
              "      <td>40.721319</td>\n",
              "      <td>-73.841610</td>\n",
              "      <td>40.712278</td>\n",
              "      <td>1</td>\n",
              "      <td>2009-06-15 13:26:21</td>\n",
              "      <td>13</td>\n",
              "      <td>pm</td>\n",
              "      <td>Mon</td>\n",
              "    </tr>\n",
              "    <tr>\n",
              "      <th>1</th>\n",
              "      <td>1</td>\n",
              "      <td>2010-01-05 16:52:16.0000002</td>\n",
              "      <td>16.9</td>\n",
              "      <td>2010-01-05 16:52:16 UTC</td>\n",
              "      <td>-74.016048</td>\n",
              "      <td>40.711303</td>\n",
              "      <td>-73.979268</td>\n",
              "      <td>40.782004</td>\n",
              "      <td>1</td>\n",
              "      <td>2010-01-05 12:52:16</td>\n",
              "      <td>12</td>\n",
              "      <td>pm</td>\n",
              "      <td>Tue</td>\n",
              "    </tr>\n",
              "    <tr>\n",
              "      <th>2</th>\n",
              "      <td>2</td>\n",
              "      <td>2011-08-18 00:35:00.00000049</td>\n",
              "      <td>5.7</td>\n",
              "      <td>2011-08-18 00:35:00 UTC</td>\n",
              "      <td>-73.982738</td>\n",
              "      <td>40.761270</td>\n",
              "      <td>-73.991242</td>\n",
              "      <td>40.750562</td>\n",
              "      <td>2</td>\n",
              "      <td>2011-08-17 20:35:00</td>\n",
              "      <td>20</td>\n",
              "      <td>pm</td>\n",
              "      <td>Wed</td>\n",
              "    </tr>\n",
              "    <tr>\n",
              "      <th>3</th>\n",
              "      <td>3</td>\n",
              "      <td>2012-04-21 04:30:42.0000001</td>\n",
              "      <td>7.7</td>\n",
              "      <td>2012-04-21 04:30:42 UTC</td>\n",
              "      <td>-73.987130</td>\n",
              "      <td>40.733143</td>\n",
              "      <td>-73.991567</td>\n",
              "      <td>40.758092</td>\n",
              "      <td>1</td>\n",
              "      <td>2012-04-21 00:30:42</td>\n",
              "      <td>0</td>\n",
              "      <td>am</td>\n",
              "      <td>Sat</td>\n",
              "    </tr>\n",
              "    <tr>\n",
              "      <th>4</th>\n",
              "      <td>4</td>\n",
              "      <td>2010-03-09 07:51:00.000000135</td>\n",
              "      <td>5.3</td>\n",
              "      <td>2010-03-09 07:51:00 UTC</td>\n",
              "      <td>-73.968095</td>\n",
              "      <td>40.768008</td>\n",
              "      <td>-73.956655</td>\n",
              "      <td>40.783762</td>\n",
              "      <td>1</td>\n",
              "      <td>2010-03-09 03:51:00</td>\n",
              "      <td>3</td>\n",
              "      <td>am</td>\n",
              "      <td>Tue</td>\n",
              "    </tr>\n",
              "  </tbody>\n",
              "</table>\n",
              "</div>"
            ],
            "text/plain": [
              "   Unnamed: 0                            key  fare_amount  ... Hour  AMorPM  Weekday\n",
              "0           0    2009-06-15 17:26:21.0000001          4.5  ...   13      pm      Mon\n",
              "1           1    2010-01-05 16:52:16.0000002         16.9  ...   12      pm      Tue\n",
              "2           2   2011-08-18 00:35:00.00000049          5.7  ...   20      pm      Wed\n",
              "3           3    2012-04-21 04:30:42.0000001          7.7  ...    0      am      Sat\n",
              "4           4  2010-03-09 07:51:00.000000135          5.3  ...    3      am      Tue\n",
              "\n",
              "[5 rows x 13 columns]"
            ]
          },
          "metadata": {
            "tags": []
          },
          "execution_count": 21
        }
      ]
    },
    {
      "cell_type": "code",
      "metadata": {
        "id": "qPzV9SLCIBMV"
      },
      "source": [
        "cat_cols = ['Hour', 'AMorPM', 'Weekday']"
      ],
      "execution_count": 25,
      "outputs": []
    },
    {
      "cell_type": "code",
      "metadata": {
        "id": "Ex5KgGLSH0MR"
      },
      "source": [
        "#casting the cat categories as \"category\" and label encoding it.\n",
        "for col in subset_train.columns:\n",
        "  if col in cat_cols:\n",
        "    subset_train[col] = LabelEncoder().fit_transform(subset_train[col])\n",
        "    subset_train[col]= subset_train[col].astype('category')"
      ],
      "execution_count": 28,
      "outputs": []
    },
    {
      "cell_type": "markdown",
      "metadata": {
        "id": "jl6n8z3jN7jf"
      },
      "source": [
        "# EDA"
      ]
    },
    {
      "cell_type": "code",
      "metadata": {
        "colab": {
          "base_uri": "https://localhost:8080/",
          "height": 510
        },
        "id": "O-9Zkd4IN3ky",
        "outputId": "c36ca57b-e0b9-433e-d81e-17b6d192606a"
      },
      "source": [
        "##Distribution of Fare\n",
        "# Lets see the distribution of fare amount \n",
        "subset_train.fare_amount.hist(bins=100, figsize = (16,8))\n",
        "plt.xlabel(\"Fare Amount\")\n",
        "plt.ylabel(\"Frequency\")"
      ],
      "execution_count": 19,
      "outputs": [
        {
          "output_type": "execute_result",
          "data": {
            "text/plain": [
              "Text(0, 0.5, 'Frequency')"
            ]
          },
          "metadata": {
            "tags": []
          },
          "execution_count": 19
        },
        {
          "output_type": "display_data",
          "data": {
            "image/png": "[encoded data removed]",
            "text/plain": [
              "<Figure size 1152x576 with 1 Axes>"
            ]
          },
          "metadata": {
            "tags": []
          }
        }
      ]
    },
    {
      "cell_type": "code",
      "metadata": {
        "colab": {
          "base_uri": "https://localhost:8080/",
          "height": 619
        },
        "id": "QzWsVURCOZ97",
        "outputId": "8a524b3b-1ce1-47a1-865a-dd70354a18b7"
      },
      "source": [
        "#visulaizing how fares vary based on trip start hour\n",
        "plt.figure(figsize=(20, 10))\n",
        "sns.violinplot(x=subset_train['Hour'].astype(int), y=subset_train['fare_amount'])"
      ],
      "execution_count": 22,
      "outputs": [
        {
          "output_type": "execute_result",
          "data": {
            "text/plain": [
              "<matplotlib.axes._subplots.AxesSubplot at 0x7f577748ee90>"
            ]
          },
          "metadata": {
            "tags": []
          },
          "execution_count": 22
        },
        {
          "output_type": "display_data",
          "data": {
            "image/png": "[encoded data removed]",
            "text/plain": [
              "<Figure size 1440x720 with 1 Axes>"
            ]
          },
          "metadata": {
            "tags": []
          }
        }
      ]
    },
    {
      "cell_type": "code",
      "metadata": {
        "colab": {
          "base_uri": "https://localhost:8080/",
          "height": 619
        },
        "id": "mLuNNnT_Opyw",
        "outputId": "fd62f57b-b911-4496-cfcb-3a08af20e484"
      },
      "source": [
        "#visulaizing how fares vary based on trip start day, weekends have higher fare like in plot below\n",
        "plt.figure(figsize=(20, 10))\n",
        "sns.violinplot(x=subset_train['Weekday'].astype(int), y=subset_train['fare_amount'])"
      ],
      "execution_count": 29,
      "outputs": [
        {
          "output_type": "execute_result",
          "data": {
            "text/plain": [
              "<matplotlib.axes._subplots.AxesSubplot at 0x7f5773a13090>"
            ]
          },
          "metadata": {
            "tags": []
          },
          "execution_count": 29
        },
        {
          "output_type": "display_data",
          "data": {
            "image/png": "[encoded data removed]",
            "text/plain": [
              "<Figure size 1440x720 with 1 Axes>"
            ]
          },
          "metadata": {
            "tags": []
          }
        }
      ]
    },
    {
      "cell_type": "markdown",
      "metadata": {
        "id": "08C93Xd7IPN1"
      },
      "source": [
        "# Feature Engineering:"
      ]
    },
    {
      "cell_type": "code",
      "metadata": {
        "colab": {
          "base_uri": "https://localhost:8080/",
          "height": 204
        },
        "id": "t_fItWv9PPtI",
        "outputId": "6dbd955e-bc1e-4ead-8417-3e36d90ee394"
      },
      "source": [
        "##Calculate Euclidean distance\n",
        "from scipy.spatial import distance\n",
        "def euclidean(row):\n",
        "  # print(row)\n",
        "  a = (row['pickup_latitude'], row['pickup_longitude'])\n",
        "  b = (row['dropoff_latitude'], row['dropoff_longitude'])\n",
        "  row['distance'] = distance.euclidean(a, b) * 100\n",
        "  return row\n",
        "\n",
        "subset_train = subset_train.apply(euclidean, axis=1)\n",
        "subset_train.head()  "
      ],
      "execution_count": 30,
      "outputs": [
        {
          "output_type": "execute_result",
          "data": {
            "text/html": [
              "<div>\n",
              "<style scoped>\n",
              "    .dataframe tbody tr th:only-of-type {\n",
              "        vertical-align: middle;\n",
              "    }\n",
              "\n",
              "    .dataframe tbody tr th {\n",
              "        vertical-align: top;\n",
              "    }\n",
              "\n",
              "    .dataframe thead th {\n",
              "        text-align: right;\n",
              "    }\n",
              "</style>\n",
              "<table border=\"1\" class=\"dataframe\">\n",
              "  <thead>\n",
              "    <tr style=\"text-align: right;\">\n",
              "      <th></th>\n",
              "      <th>Unnamed: 0</th>\n",
              "      <th>key</th>\n",
              "      <th>fare_amount</th>\n",
              "      <th>pickup_datetime</th>\n",
              "      <th>pickup_longitude</th>\n",
              "      <th>pickup_latitude</th>\n",
              "      <th>dropoff_longitude</th>\n",
              "      <th>dropoff_latitude</th>\n",
              "      <th>passenger_count</th>\n",
              "      <th>EDTdate</th>\n",
              "      <th>Hour</th>\n",
              "      <th>AMorPM</th>\n",
              "      <th>Weekday</th>\n",
              "      <th>distance</th>\n",
              "    </tr>\n",
              "  </thead>\n",
              "  <tbody>\n",
              "    <tr>\n",
              "      <th>0</th>\n",
              "      <td>0</td>\n",
              "      <td>2009-06-15 17:26:21.0000001</td>\n",
              "      <td>4.5</td>\n",
              "      <td>2009-06-15 17:26:21 UTC</td>\n",
              "      <td>-73.844311</td>\n",
              "      <td>40.721319</td>\n",
              "      <td>-73.841610</td>\n",
              "      <td>40.712278</td>\n",
              "      <td>1</td>\n",
              "      <td>2009-06-15 13:26:21</td>\n",
              "      <td>13</td>\n",
              "      <td>1</td>\n",
              "      <td>1</td>\n",
              "      <td>0.943584</td>\n",
              "    </tr>\n",
              "    <tr>\n",
              "      <th>1</th>\n",
              "      <td>1</td>\n",
              "      <td>2010-01-05 16:52:16.0000002</td>\n",
              "      <td>16.9</td>\n",
              "      <td>2010-01-05 16:52:16 UTC</td>\n",
              "      <td>-74.016048</td>\n",
              "      <td>40.711303</td>\n",
              "      <td>-73.979268</td>\n",
              "      <td>40.782004</td>\n",
              "      <td>1</td>\n",
              "      <td>2010-01-05 12:52:16</td>\n",
              "      <td>12</td>\n",
              "      <td>1</td>\n",
              "      <td>5</td>\n",
              "      <td>7.969567</td>\n",
              "    </tr>\n",
              "    <tr>\n",
              "      <th>2</th>\n",
              "      <td>2</td>\n",
              "      <td>2011-08-18 00:35:00.00000049</td>\n",
              "      <td>5.7</td>\n",
              "      <td>2011-08-18 00:35:00 UTC</td>\n",
              "      <td>-73.982738</td>\n",
              "      <td>40.761270</td>\n",
              "      <td>-73.991242</td>\n",
              "      <td>40.750562</td>\n",
              "      <td>2</td>\n",
              "      <td>2011-08-17 20:35:00</td>\n",
              "      <td>20</td>\n",
              "      <td>1</td>\n",
              "      <td>6</td>\n",
              "      <td>1.367404</td>\n",
              "    </tr>\n",
              "    <tr>\n",
              "      <th>3</th>\n",
              "      <td>3</td>\n",
              "      <td>2012-04-21 04:30:42.0000001</td>\n",
              "      <td>7.7</td>\n",
              "      <td>2012-04-21 04:30:42 UTC</td>\n",
              "      <td>-73.987130</td>\n",
              "      <td>40.733143</td>\n",
              "      <td>-73.991567</td>\n",
              "      <td>40.758092</td>\n",
              "      <td>1</td>\n",
              "      <td>2012-04-21 00:30:42</td>\n",
              "      <td>0</td>\n",
              "      <td>0</td>\n",
              "      <td>2</td>\n",
              "      <td>2.534047</td>\n",
              "    </tr>\n",
              "    <tr>\n",
              "      <th>4</th>\n",
              "      <td>4</td>\n",
              "      <td>2010-03-09 07:51:00.000000135</td>\n",
              "      <td>5.3</td>\n",
              "      <td>2010-03-09 07:51:00 UTC</td>\n",
              "      <td>-73.968095</td>\n",
              "      <td>40.768008</td>\n",
              "      <td>-73.956655</td>\n",
              "      <td>40.783762</td>\n",
              "      <td>1</td>\n",
              "      <td>2010-03-09 03:51:00</td>\n",
              "      <td>3</td>\n",
              "      <td>0</td>\n",
              "      <td>5</td>\n",
              "      <td>1.946952</td>\n",
              "    </tr>\n",
              "  </tbody>\n",
              "</table>\n",
              "</div>"
            ],
            "text/plain": [
              "   Unnamed: 0                            key  ...  Weekday  distance\n",
              "0           0    2009-06-15 17:26:21.0000001  ...        1  0.943584\n",
              "1           1    2010-01-05 16:52:16.0000002  ...        5  7.969567\n",
              "2           2   2011-08-18 00:35:00.00000049  ...        6  1.367404\n",
              "3           3    2012-04-21 04:30:42.0000001  ...        2  2.534047\n",
              "4           4  2010-03-09 07:51:00.000000135  ...        5  1.946952\n",
              "\n",
              "[5 rows x 14 columns]"
            ]
          },
          "metadata": {
            "tags": []
          },
          "execution_count": 30
        }
      ]
    },
    {
      "cell_type": "code",
      "metadata": {
        "colab": {
          "base_uri": "https://localhost:8080/",
          "height": 619
        },
        "id": "0OVY7NLAPilW",
        "outputId": "e05548f8-33cb-41d2-c7ee-2c0a219ae575"
      },
      "source": [
        "##Fair Vs distance plot( Colored by Trip Start Hour )\n",
        "plt.figure(figsize=(10, 10))\n",
        "sns.scatterplot(x=subset_train['distance'], y=subset_train['fare_amount'], hue=subset_train['Hour'].astype(int))"
      ],
      "execution_count": 31,
      "outputs": [
        {
          "output_type": "execute_result",
          "data": {
            "text/plain": [
              "<matplotlib.axes._subplots.AxesSubplot at 0x7f576ab16090>"
            ]
          },
          "metadata": {
            "tags": []
          },
          "execution_count": 31
        },
        {
          "output_type": "display_data",
          "data": {
            "image/png": "[encoded data removed]",
            "text/plain": [
              "<Figure size 720x720 with 1 Axes>"
            ]
          },
          "metadata": {
            "tags": []
          }
        }
      ]
    },
    {
      "cell_type": "code",
      "metadata": {
        "colab": {
          "base_uri": "https://localhost:8080/",
          "height": 510
        },
        "id": "NE4TSdZLPlZ7",
        "outputId": "265216ce-11f2-443b-b454-f439761722d0"
      },
      "source": [
        "plt.figure(figsize=(15, 8))\n",
        "sns.distplot(subset_train['distance'])"
      ],
      "execution_count": 32,
      "outputs": [
        {
          "output_type": "execute_result",
          "data": {
            "text/plain": [
              "<matplotlib.axes._subplots.AxesSubplot at 0x7f576ea328d0>"
            ]
          },
          "metadata": {
            "tags": []
          },
          "execution_count": 32
        },
        {
          "output_type": "display_data",
          "data": {
            "image/png": "[encoded data removed]",
            "text/plain": [
              "<Figure size 1080x576 with 1 Axes>"
            ]
          },
          "metadata": {
            "tags": []
          }
        }
      ]
    },
    {
      "cell_type": "markdown",
      "metadata": {
        "id": "JJ9nA8eycqD3"
      },
      "source": [
        "# Test  Train Split:"
      ]
    },
    {
      "cell_type": "code",
      "metadata": {
        "colab": {
          "base_uri": "https://localhost:8080/"
        },
        "id": "qrZsYsY9JIJw",
        "outputId": "25040ac0-1675-4354-cba5-7aa95323700a"
      },
      "source": [
        "# create copy of the data set\n",
        "df_train = subset_train.drop(columns= ['key','pickup_datetime', 'EDTdate'], axis= 1).copy()\n",
        "print(df_train.shape)\n"
      ],
      "execution_count": 39,
      "outputs": [
        {
          "output_type": "stream",
          "text": [
            "(49991, 11)\n"
          ],
          "name": "stdout"
        }
      ]
    },
    {
      "cell_type": "code",
      "metadata": {
        "colab": {
          "base_uri": "https://localhost:8080/"
        },
        "id": "ZUPyyjjrdCkE",
        "outputId": "cf652974-66be-4be4-d8f3-bf43b73cd02a"
      },
      "source": [
        "from sklearn.model_selection import train_test_split \n",
        "X_train, X_test, y_train, y_test = train_test_split(df_train.drop('fare_amount', axis=1),\n",
        "                                                    df_train['fare_amount'], test_size=0.2, random_state = 42)\n",
        "print(X_train.shape)\n",
        "print(X_test.shape)\n",
        "print(y_train.shape)\n",
        "print(y_test.shape)"
      ],
      "execution_count": 40,
      "outputs": [
        {
          "output_type": "stream",
          "text": [
            "(39992, 10)\n",
            "(9999, 10)\n",
            "(39992,)\n",
            "(9999,)\n"
          ],
          "name": "stdout"
        }
      ]
    },
    {
      "cell_type": "markdown",
      "metadata": {
        "id": "3ahO1ASrdLca"
      },
      "source": [
        "# XGBoost Model:"
      ]
    },
    {
      "cell_type": "code",
      "metadata": {
        "id": "WTMJNq4YdOWT"
      },
      "source": [
        "import xgboost as xgb"
      ],
      "execution_count": 34,
      "outputs": []
    },
    {
      "cell_type": "code",
      "metadata": {
        "id": "U08J7BNrdTL7"
      },
      "source": [
        "params = {\n",
        "   \n",
        "    'max_depth': 7,\n",
        "    'gamma' :0,\n",
        "    'eta':.03, \n",
        "    'subsample': 1,\n",
        "    'colsample_bytree': 0.9, \n",
        "    'objective':'reg:linear',\n",
        "    'eval_metric':'rmse',\n",
        "    'silent': 0\n",
        "}"
      ],
      "execution_count": 35,
      "outputs": []
    },
    {
      "cell_type": "code",
      "metadata": {
        "colab": {
          "base_uri": "https://localhost:8080/"
        },
        "id": "cAwTYXtYdWuV",
        "outputId": "bf9f3460-775f-47c4-d050-1971a1efd32e"
      },
      "source": [
        "def XGBmodel(X_train,X_test,y_train,y_test,params):\n",
        "    matrix_train = xgb.DMatrix(X_train,label=y_train)\n",
        "    matrix_test = xgb.DMatrix(X_test,label=y_test)\n",
        "    model=xgb.train(params=params,\n",
        "                    dtrain=matrix_train,num_boost_round=5000, \n",
        "                    early_stopping_rounds=10,evals=[(matrix_test,'test')])\n",
        "    return model\n",
        "\n",
        "model = XGBmodel(X_train,X_test,y_train,y_test,params)"
      ],
      "execution_count": 41,
      "outputs": [
        {
          "output_type": "stream",
          "text": [
            "[17:49:08] WARNING: /workspace/src/objective/regression_obj.cu:152: reg:linear is now deprecated in favor of reg:squarederror.\n",
            "[0]\ttest-rmse:14.368\n",
            "Will train until test-rmse hasn't improved in 10 rounds.\n",
            "[1]\ttest-rmse:14.0076\n",
            "[2]\ttest-rmse:13.6366\n",
            "[3]\ttest-rmse:13.2776\n",
            "[4]\ttest-rmse:12.931\n",
            "[5]\ttest-rmse:12.5955\n",
            "[6]\ttest-rmse:12.2708\n",
            "[7]\ttest-rmse:11.9581\n",
            "[8]\ttest-rmse:11.6563\n",
            "[9]\ttest-rmse:11.3645\n",
            "[10]\ttest-rmse:11.0826\n",
            "[11]\ttest-rmse:10.8104\n",
            "[12]\ttest-rmse:10.5622\n",
            "[13]\ttest-rmse:10.3075\n",
            "[14]\ttest-rmse:10.0617\n",
            "[15]\ttest-rmse:9.82479\n",
            "[16]\ttest-rmse:9.59654\n",
            "[17]\ttest-rmse:9.37632\n",
            "[18]\ttest-rmse:9.16473\n",
            "[19]\ttest-rmse:8.96015\n",
            "[20]\ttest-rmse:8.76306\n",
            "[21]\ttest-rmse:8.57403\n",
            "[22]\ttest-rmse:8.39151\n",
            "[23]\ttest-rmse:8.21713\n",
            "[24]\ttest-rmse:8.04822\n",
            "[25]\ttest-rmse:7.88698\n",
            "[26]\ttest-rmse:7.73086\n",
            "[27]\ttest-rmse:7.58156\n",
            "[28]\ttest-rmse:7.43961\n",
            "[29]\ttest-rmse:7.3008\n",
            "[30]\ttest-rmse:7.16772\n",
            "[31]\ttest-rmse:7.03982\n",
            "[32]\ttest-rmse:6.91923\n",
            "[33]\ttest-rmse:6.80326\n",
            "[34]\ttest-rmse:6.69091\n",
            "[35]\ttest-rmse:6.58394\n",
            "[36]\ttest-rmse:6.48238\n",
            "[37]\ttest-rmse:6.38199\n",
            "[38]\ttest-rmse:6.28822\n",
            "[39]\ttest-rmse:6.19967\n",
            "[40]\ttest-rmse:6.11245\n",
            "[41]\ttest-rmse:6.02992\n",
            "[42]\ttest-rmse:5.95007\n",
            "[43]\ttest-rmse:5.87406\n",
            "[44]\ttest-rmse:5.8038\n",
            "[45]\ttest-rmse:5.73585\n",
            "[46]\ttest-rmse:5.6724\n",
            "[47]\ttest-rmse:5.61001\n",
            "[48]\ttest-rmse:5.55091\n",
            "[49]\ttest-rmse:5.49534\n",
            "[50]\ttest-rmse:5.44305\n",
            "[51]\ttest-rmse:5.39175\n",
            "[52]\ttest-rmse:5.34335\n",
            "[53]\ttest-rmse:5.29975\n",
            "[54]\ttest-rmse:5.2565\n",
            "[55]\ttest-rmse:5.21405\n",
            "[56]\ttest-rmse:5.17467\n",
            "[57]\ttest-rmse:5.13695\n",
            "[58]\ttest-rmse:5.10102\n",
            "[59]\ttest-rmse:5.06706\n",
            "[60]\ttest-rmse:5.03501\n",
            "[61]\ttest-rmse:5.00449\n",
            "[62]\ttest-rmse:4.97643\n",
            "[63]\ttest-rmse:4.94963\n",
            "[64]\ttest-rmse:4.92561\n",
            "[65]\ttest-rmse:4.90141\n",
            "[66]\ttest-rmse:4.87776\n",
            "[67]\ttest-rmse:4.85807\n",
            "[68]\ttest-rmse:4.83704\n",
            "[69]\ttest-rmse:4.81741\n",
            "[70]\ttest-rmse:4.79894\n",
            "[71]\ttest-rmse:4.78225\n",
            "[72]\ttest-rmse:4.76579\n",
            "[73]\ttest-rmse:4.75293\n",
            "[74]\ttest-rmse:4.74068\n",
            "[75]\ttest-rmse:4.72832\n",
            "[76]\ttest-rmse:4.71732\n",
            "[77]\ttest-rmse:4.70615\n",
            "[78]\ttest-rmse:4.69547\n",
            "[79]\ttest-rmse:4.68397\n",
            "[80]\ttest-rmse:4.6748\n",
            "[81]\ttest-rmse:4.66607\n",
            "[82]\ttest-rmse:4.65854\n",
            "[83]\ttest-rmse:4.65002\n",
            "[84]\ttest-rmse:4.64287\n",
            "[85]\ttest-rmse:4.63465\n",
            "[86]\ttest-rmse:4.62709\n",
            "[87]\ttest-rmse:4.62064\n",
            "[88]\ttest-rmse:4.61494\n",
            "[89]\ttest-rmse:4.60976\n",
            "[90]\ttest-rmse:4.60357\n",
            "[91]\ttest-rmse:4.59879\n",
            "[92]\ttest-rmse:4.59475\n",
            "[93]\ttest-rmse:4.59035\n",
            "[94]\ttest-rmse:4.58544\n",
            "[95]\ttest-rmse:4.58166\n",
            "[96]\ttest-rmse:4.57782\n",
            "[97]\ttest-rmse:4.57438\n",
            "[98]\ttest-rmse:4.57217\n",
            "[99]\ttest-rmse:4.56886\n",
            "[100]\ttest-rmse:4.56603\n",
            "[101]\ttest-rmse:4.56033\n",
            "[102]\ttest-rmse:4.55759\n",
            "[103]\ttest-rmse:4.55658\n",
            "[104]\ttest-rmse:4.55384\n",
            "[105]\ttest-rmse:4.54927\n",
            "[106]\ttest-rmse:4.54554\n",
            "[107]\ttest-rmse:4.5437\n",
            "[108]\ttest-rmse:4.54099\n",
            "[109]\ttest-rmse:4.5389\n",
            "[110]\ttest-rmse:4.53759\n",
            "[111]\ttest-rmse:4.53731\n",
            "[112]\ttest-rmse:4.53508\n",
            "[113]\ttest-rmse:4.53325\n",
            "[114]\ttest-rmse:4.53074\n",
            "[115]\ttest-rmse:4.53017\n",
            "[116]\ttest-rmse:4.52609\n",
            "[117]\ttest-rmse:4.52411\n",
            "[118]\ttest-rmse:4.52393\n",
            "[119]\ttest-rmse:4.52189\n",
            "[120]\ttest-rmse:4.52095\n",
            "[121]\ttest-rmse:4.52113\n",
            "[122]\ttest-rmse:4.52111\n",
            "[123]\ttest-rmse:4.52158\n",
            "[124]\ttest-rmse:4.52159\n",
            "[125]\ttest-rmse:4.52114\n",
            "[126]\ttest-rmse:4.52039\n",
            "[127]\ttest-rmse:4.51717\n",
            "[128]\ttest-rmse:4.51614\n",
            "[129]\ttest-rmse:4.51497\n",
            "[130]\ttest-rmse:4.51443\n",
            "[131]\ttest-rmse:4.51512\n",
            "[132]\ttest-rmse:4.51463\n",
            "[133]\ttest-rmse:4.51316\n",
            "[134]\ttest-rmse:4.51227\n",
            "[135]\ttest-rmse:4.5125\n",
            "[136]\ttest-rmse:4.51228\n",
            "[137]\ttest-rmse:4.51226\n",
            "[138]\ttest-rmse:4.51244\n",
            "[139]\ttest-rmse:4.51214\n",
            "[140]\ttest-rmse:4.50825\n",
            "[141]\ttest-rmse:4.50587\n",
            "[142]\ttest-rmse:4.50339\n",
            "[143]\ttest-rmse:4.50303\n",
            "[144]\ttest-rmse:4.50133\n",
            "[145]\ttest-rmse:4.50152\n",
            "[146]\ttest-rmse:4.50034\n",
            "[147]\ttest-rmse:4.50202\n",
            "[148]\ttest-rmse:4.50359\n",
            "[149]\ttest-rmse:4.50312\n",
            "[150]\ttest-rmse:4.50018\n",
            "[151]\ttest-rmse:4.49871\n",
            "[152]\ttest-rmse:4.49698\n",
            "[153]\ttest-rmse:4.49699\n",
            "[154]\ttest-rmse:4.49666\n",
            "[155]\ttest-rmse:4.49603\n",
            "[156]\ttest-rmse:4.49613\n",
            "[157]\ttest-rmse:4.49307\n",
            "[158]\ttest-rmse:4.49088\n",
            "[159]\ttest-rmse:4.49046\n",
            "[160]\ttest-rmse:4.48996\n",
            "[161]\ttest-rmse:4.48777\n",
            "[162]\ttest-rmse:4.48775\n",
            "[163]\ttest-rmse:4.48736\n",
            "[164]\ttest-rmse:4.48401\n",
            "[165]\ttest-rmse:4.48313\n",
            "[166]\ttest-rmse:4.48277\n",
            "[167]\ttest-rmse:4.48246\n",
            "[168]\ttest-rmse:4.4823\n",
            "[169]\ttest-rmse:4.48285\n",
            "[170]\ttest-rmse:4.4829\n",
            "[171]\ttest-rmse:4.48218\n",
            "[172]\ttest-rmse:4.48155\n",
            "[173]\ttest-rmse:4.47862\n",
            "[174]\ttest-rmse:4.47897\n",
            "[175]\ttest-rmse:4.47619\n",
            "[176]\ttest-rmse:4.47945\n",
            "[177]\ttest-rmse:4.47949\n",
            "[178]\ttest-rmse:4.47937\n",
            "[179]\ttest-rmse:4.47952\n",
            "[180]\ttest-rmse:4.47962\n",
            "[181]\ttest-rmse:4.47771\n",
            "[182]\ttest-rmse:4.47614\n",
            "[183]\ttest-rmse:4.4768\n",
            "[184]\ttest-rmse:4.47596\n",
            "[185]\ttest-rmse:4.47553\n",
            "[186]\ttest-rmse:4.47537\n",
            "[187]\ttest-rmse:4.47443\n",
            "[188]\ttest-rmse:4.47471\n",
            "[189]\ttest-rmse:4.47445\n",
            "[190]\ttest-rmse:4.47568\n",
            "[191]\ttest-rmse:4.47596\n",
            "[192]\ttest-rmse:4.47615\n",
            "[193]\ttest-rmse:4.47551\n",
            "[194]\ttest-rmse:4.47542\n",
            "[195]\ttest-rmse:4.47512\n",
            "[196]\ttest-rmse:4.4749\n",
            "[197]\ttest-rmse:4.47462\n",
            "Stopping. Best iteration:\n",
            "[187]\ttest-rmse:4.47443\n",
            "\n"
          ],
          "name": "stdout"
        }
      ]
    }
  ]
}